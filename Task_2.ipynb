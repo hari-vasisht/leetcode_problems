{
 "cells": [
  {
   "cell_type": "code",
   "execution_count": 1,
   "id": "35f8a937",
   "metadata": {},
   "outputs": [
    {
     "name": "stdout",
     "output_type": "stream",
     "text": [
      "1[.]1[.]1[.]1\n"
     ]
    }
   ],
   "source": [
    "#Defanging an IP Address\n",
    "\n",
    "def defangIPaddr(str):\n",
    "    return address.replace('.','[.]')\n",
    "\n",
    "address = \"1.1.1.1\"\n",
    "print(defangIPaddr(address))"
   ]
  },
  {
   "cell_type": "code",
   "execution_count": 2,
   "id": "74632bb2",
   "metadata": {},
   "outputs": [
    {
     "name": "stdout",
     "output_type": "stream",
     "text": [
      "2\n"
     ]
    }
   ],
   "source": [
    "#Find Numbers with Even Number of Digits\n",
    "\n",
    "def findNumbers(nums):\n",
    "    return sum(1 for i in nums if len(str(i))%2 == 0 )\n",
    "\n",
    "nums = [12,345,2,6,7896]\n",
    "print(findNumbers(nums))"
   ]
  },
  {
   "cell_type": "code",
   "execution_count": 3,
   "id": "778fbb53",
   "metadata": {},
   "outputs": [
    {
     "name": "stdout",
     "output_type": "stream",
     "text": [
      "4\n"
     ]
    }
   ],
   "source": [
    "# Number of Good Pairs\n",
    "\n",
    "def numIdenticalPairs(nums):\n",
    "    count = 0\n",
    "    for i in range(1,len(nums)):\n",
    "        for j in range(i):\n",
    "            if nums[j]==nums[i]:\n",
    "                count+=1\n",
    "    return count\n",
    "\n",
    "nums = [1,2,3,1,1,3]\n",
    "print(numIdenticalPairs(nums))"
   ]
  },
  {
   "cell_type": "code",
   "execution_count": 4,
   "id": "a77df9b5",
   "metadata": {},
   "outputs": [
    {
     "name": "stdout",
     "output_type": "stream",
     "text": [
      "[4, 0, 1, 1, 3]\n"
     ]
    }
   ],
   "source": [
    "#How Many Numbers Are Smaller Than the Current Number\n",
    "\n",
    "def smallerNumbersThanCurrent(nums):\n",
    "    ascnums = sorted(nums)\n",
    "    return [ascnums.index(i) for i in nums]\n",
    "\n",
    "nums = [8,1,2,2,3]\n",
    "print(smallerNumbersThanCurrent(nums))"
   ]
  },
  {
   "cell_type": "code",
   "execution_count": 5,
   "id": "86a1268f",
   "metadata": {},
   "outputs": [
    {
     "name": "stdout",
     "output_type": "stream",
     "text": [
      "15\n"
     ]
    }
   ],
   "source": [
    "#Subtract the Product and Sum of Digits of an Integer\n",
    "\n",
    "def subtractProductAndSum(n):\n",
    "    prod, add = 1, 0\n",
    "    while n != 0:\n",
    "        rem = n%10\n",
    "        prod *= rem\n",
    "        add += rem\n",
    "        n = n//10\n",
    "    return (prod-add)\n",
    "\n",
    "n = 234\n",
    "print(subtractProductAndSum(n))"
   ]
  },
  {
   "cell_type": "code",
   "execution_count": 6,
   "id": "30bb4ab0",
   "metadata": {},
   "outputs": [
    {
     "name": "stdout",
     "output_type": "stream",
     "text": [
      "8\n"
     ]
    }
   ],
   "source": [
    "#XOR Operation in an Array\n",
    "\n",
    "def xorOperation(n, start):\n",
    "    ans = start\n",
    "    for i in range(1,n):\n",
    "        q = start + 2 * i\n",
    "        ans = ans ^ q\n",
    "    return ans\n",
    "\n",
    "n = 5\n",
    "start = 0\n",
    "print(xorOperation(n,start))"
   ]
  }
 ],
 "metadata": {
  "kernelspec": {
   "display_name": "Python 3 (ipykernel)",
   "language": "python",
   "name": "python3"
  },
  "language_info": {
   "codemirror_mode": {
    "name": "ipython",
    "version": 3
   },
   "file_extension": ".py",
   "mimetype": "text/x-python",
   "name": "python",
   "nbconvert_exporter": "python",
   "pygments_lexer": "ipython3",
   "version": "3.10.9"
  }
 },
 "nbformat": 4,
 "nbformat_minor": 5
}
