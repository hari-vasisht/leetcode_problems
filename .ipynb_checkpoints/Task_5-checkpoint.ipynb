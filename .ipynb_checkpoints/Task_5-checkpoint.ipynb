{
 "cells": [
  {
   "cell_type": "code",
   "execution_count": 1,
   "id": "b1a925d2",
   "metadata": {},
   "outputs": [
    {
     "name": "stdout",
     "output_type": "stream",
     "text": [
      "[[], [1], [2], [1, 2], [3], [1, 3], [2, 3], [1, 2, 3]]\n"
     ]
    }
   ],
   "source": [
    "#Subsets\n",
    "\n",
    "def subsets(nums):\n",
    "    ans = [[]]\n",
    "    for i in nums:\n",
    "        for j in range(len(ans)):\n",
    "            ans.append(ans[j]+[i])\n",
    "    return ans\n",
    "\n",
    "nums = [1,2,3]\n",
    "print(subsets(nums))"
   ]
  },
  {
   "cell_type": "code",
   "execution_count": 2,
   "id": "3bcc4987",
   "metadata": {},
   "outputs": [
    {
     "name": "stdout",
     "output_type": "stream",
     "text": [
      "2\n"
     ]
    }
   ],
   "source": [
    "#hamming Distance\n",
    "\n",
    "def hammingDistance(x,y):\n",
    "    add = 0\n",
    "    num = x ^ y\n",
    "    while num!=0:\n",
    "        add += num%2\n",
    "        num >>= 1\n",
    "    return add\n",
    "\n",
    "x = 1\n",
    "y = 4\n",
    "print(hammingDistance(x,y))"
   ]
  },
  {
   "cell_type": "code",
   "execution_count": 3,
   "id": "5dbe594d",
   "metadata": {},
   "outputs": [
    {
     "name": "stdout",
     "output_type": "stream",
     "text": [
      "99\n"
     ]
    }
   ],
   "source": [
    "#Single Number II\n",
    "\n",
    "def singleNumber(nums):\n",
    "    try:\n",
    "        i = 0\n",
    "        while(i<len(nums)):\n",
    "            for j in range(2):\n",
    "                index = nums.index(nums[i],i+1,len(nums))\n",
    "                del[nums[index]]\n",
    "            i += 1\n",
    "    except ValueError:\n",
    "        return nums[i]\n",
    "    \n",
    "nums = [0,1,0,1,0,1,99]\n",
    "#nums = [2,2,3,2]\n",
    "print(singleNumber(nums))"
   ]
  }
 ],
 "metadata": {
  "kernelspec": {
   "display_name": "Python 3 (ipykernel)",
   "language": "python",
   "name": "python3"
  },
  "language_info": {
   "codemirror_mode": {
    "name": "ipython",
    "version": 3
   },
   "file_extension": ".py",
   "mimetype": "text/x-python",
   "name": "python",
   "nbconvert_exporter": "python",
   "pygments_lexer": "ipython3",
   "version": "3.10.9"
  }
 },
 "nbformat": 4,
 "nbformat_minor": 5
}
