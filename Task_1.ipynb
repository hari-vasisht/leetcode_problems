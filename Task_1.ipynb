{
 "cells": [
  {
   "cell_type": "code",
   "execution_count": 4,
   "id": "07c9ed40",
   "metadata": {},
   "outputs": [
    {
     "name": "stdout",
     "output_type": "stream",
     "text": [
      "[1, 3, 6, 10]\n"
     ]
    }
   ],
   "source": [
    "#Running Sum of 1d Array\n",
    "def runningSum(nums):\n",
    "    rsum = [nums[0]]\n",
    "    for i in nums[1:]:\n",
    "        rsum.append(rsum[-1]+i)\n",
    "    return rsum\n",
    "    \n",
    "num = [1,2,3,4]\n",
    "print(runningSum(num))"
   ]
  },
  {
   "cell_type": "code",
   "execution_count": 2,
   "id": "501aab69",
   "metadata": {},
   "outputs": [
    {
     "name": "stdout",
     "output_type": "stream",
     "text": [
      "[2, 3, 5, 4, 1, 7]\n"
     ]
    }
   ],
   "source": [
    "#Shuffle the Array\n",
    "def shuffle(nums, n):\n",
    "    a = []\n",
    "    for i in range(n):\n",
    "        a.append(nums[i])\n",
    "        a.append(nums[n+i])\n",
    "    return a\n",
    "\n",
    "nums = [2,5,1,3,4,7]\n",
    "n = 3\n",
    "print(shuffle(nums,n))"
   ]
  },
  {
   "cell_type": "code",
   "execution_count": 3,
   "id": "64b8dc92",
   "metadata": {},
   "outputs": [
    {
     "name": "stdout",
     "output_type": "stream",
     "text": [
      "[True, True, True, False, True]\n"
     ]
    }
   ],
   "source": [
    "#Kids With the Greatest Number of Candies\n",
    "def kidsWithCandies(candies, extraCandies):\n",
    "        great = max(candies)\n",
    "        return [i+extraCandies >= great for i in candies]\n",
    "    \n",
    "candies = [2,3,5,1,3]\n",
    "extraCandies = 3\n",
    "print(kidsWithCandies(candies,extraCandies))"
   ]
  }
 ],
 "metadata": {
  "kernelspec": {
   "display_name": "Python 3 (ipykernel)",
   "language": "python",
   "name": "python3"
  },
  "language_info": {
   "codemirror_mode": {
    "name": "ipython",
    "version": 3
   },
   "file_extension": ".py",
   "mimetype": "text/x-python",
   "name": "python",
   "nbconvert_exporter": "python",
   "pygments_lexer": "ipython3",
   "version": "3.10.9"
  }
 },
 "nbformat": 4,
 "nbformat_minor": 5
}
