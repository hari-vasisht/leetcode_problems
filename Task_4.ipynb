{
 "cells": [
  {
   "cell_type": "code",
   "execution_count": 1,
   "id": "cac1b20c",
   "metadata": {},
   "outputs": [
    {
     "name": "stdout",
     "output_type": "stream",
     "text": [
      "4\n"
     ]
    }
   ],
   "source": [
    "#Single Number\n",
    "\n",
    "def singleNumber(nums):\n",
    "    for i in range(0,len(nums),2):\n",
    "        try:\n",
    "            index = nums.index(nums[i],i+1)\n",
    "            nums[i+1],nums[index] = nums[index],nums[i+1]\n",
    "        except ValueError:\n",
    "            return nums[i]\n",
    "        \n",
    "nums = [4,1,2,1,2]\n",
    "print(singleNumber(nums))"
   ]
  },
  {
   "cell_type": "code",
   "execution_count": 2,
   "id": "f4f30f92",
   "metadata": {},
   "outputs": [
    {
     "name": "stdout",
     "output_type": "stream",
     "text": [
      "[1, 2, 4, 8, 16, 32, 64, 128, 256, 512, 1024]\n"
     ]
    }
   ],
   "source": [
    "#Sort Integers by The Number of 1 Bits -----------\n",
    "\n",
    "def sortByBits(arr):\n",
    "    arr = sorted(arr)\n",
    "    d = {}\n",
    "    for i in arr:\n",
    "        t_one = bin(i)[2:].count('1')\n",
    "        if t_one not in d:\n",
    "            d[t_one] = [i]\n",
    "        else:\n",
    "            d[t_one].append(i)\n",
    "    d = dict(sorted(d.items() , key = lambda x:x[0]))\n",
    "    res = []\n",
    "    for key in d:\n",
    "        res = res + d[key]\n",
    "    return res\n",
    "\n",
    "arr = [1024,512,256,128,64,32,16,8,4,2,1]\n",
    "print(sortByBits(arr))"
   ]
  },
  {
   "cell_type": "code",
   "execution_count": 3,
   "id": "334640af",
   "metadata": {},
   "outputs": [
    {
     "name": "stdout",
     "output_type": "stream",
     "text": [
      "[0, 2]\n"
     ]
    }
   ],
   "source": [
    "#Single Number III\n",
    "\n",
    "def singleNumber(nums):\n",
    "    ans = set()\n",
    "    for i in nums:\n",
    "        if i in ans:\n",
    "            ans.remove(i)\n",
    "        else:\n",
    "            ans.add(i)\n",
    "    return list(ans)\n",
    "\n",
    "print(singleNumber([0,1,1,2]))"
   ]
  },
  {
   "cell_type": "code",
   "execution_count": 4,
   "id": "3c3a17ff",
   "metadata": {},
   "outputs": [
    {
     "name": "stdout",
     "output_type": "stream",
     "text": [
      "[[], [1], [2], [1, 2], [3], [1, 3], [2, 3], [1, 2, 3]]\n"
     ]
    }
   ],
   "source": [
    "#Subsets\n",
    "\n",
    "def subsets(nums):\n",
    "    ans = [[]]\n",
    "    for i in nums:\n",
    "        for j in range(len(ans)):\n",
    "            ans.append(ans[j]+[i])\n",
    "    return ans\n",
    "\n",
    "nums = [1,2,3]\n",
    "print(subsets(nums))"
   ]
  }
 ],
 "metadata": {
  "kernelspec": {
   "display_name": "Python 3 (ipykernel)",
   "language": "python",
   "name": "python3"
  },
  "language_info": {
   "codemirror_mode": {
    "name": "ipython",
    "version": 3
   },
   "file_extension": ".py",
   "mimetype": "text/x-python",
   "name": "python",
   "nbconvert_exporter": "python",
   "pygments_lexer": "ipython3",
   "version": "3.10.9"
  }
 },
 "nbformat": 4,
 "nbformat_minor": 5
}
