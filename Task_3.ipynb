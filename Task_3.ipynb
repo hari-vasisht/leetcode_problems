{
 "cells": [
  {
   "cell_type": "code",
   "execution_count": 1,
   "id": "dea5825f",
   "metadata": {},
   "outputs": [
    {
     "name": "stdout",
     "output_type": "stream",
     "text": [
      "12\n"
     ]
    }
   ],
   "source": [
    "#Maximum Product of Two Elements in an Array\n",
    "\n",
    "def maxProduct(nums):\n",
    "    nums.sort()\n",
    "    return (nums[-1]-1) * (nums[-2]-1)\n",
    "\n",
    "nums = [3,4,5,2]\n",
    "print(maxProduct(nums))"
   ]
  },
  {
   "cell_type": "code",
   "execution_count": 2,
   "id": "bda08321",
   "metadata": {},
   "outputs": [
    {
     "name": "stdout",
     "output_type": "stream",
     "text": [
      "3\n"
     ]
    }
   ],
   "source": [
    "#Count Number of Teams \n",
    "\n",
    "def numTeams(rating):\n",
    "    ans = 0\n",
    "    for i in range(1, len(rating) - 1):\n",
    "        l, g = [0, 0], [0, 0]\n",
    "        for j in range(i):\n",
    "            if rating[j] < rating[i]:\n",
    "                l[0] += 1\n",
    "            else:\n",
    "                g[0] += 1\n",
    "            \n",
    "        for k in range(i+1, len(rating)):\n",
    "            if rating[i] < rating[k]:\n",
    "                l[1] += 1\n",
    "            else:\n",
    "                g[1] += 1\n",
    "        ans += l[0] * l[1] + g[0] * g[1]\n",
    "    return ans\n",
    "\n",
    "rating = [2,5,3,4,1]\n",
    "print(numTeams(rating))"
   ]
  },
  {
   "cell_type": "code",
   "execution_count": 3,
   "id": "698be286",
   "metadata": {},
   "outputs": [
    {
     "name": "stdout",
     "output_type": "stream",
     "text": [
      "1\n"
     ]
    }
   ],
   "source": [
    "#Number of Students Doing Homework at a Given Time\n",
    "\n",
    "def busyStudent(startTime, endTime, queryTime):\n",
    "        return sum(1 for i in range(len(startTime)) if startTime[i]<=queryTime and queryTime<= endTime[i])\n",
    "    \n",
    "startTime = [1,2,3]\n",
    "endTime = [3,2,7]\n",
    "queryTime = 4\n",
    "print(busyStudent(startTime,endTime,queryTime))"
   ]
  },
  {
   "cell_type": "code",
   "execution_count": 4,
   "id": "3f236cf1",
   "metadata": {},
   "outputs": [
    {
     "name": "stdout",
     "output_type": "stream",
     "text": [
      "6\n"
     ]
    }
   ],
   "source": [
    "#Number of Steps to Reduce a Number to Zero\n",
    "\n",
    "def numberOfSteps(num):\n",
    "    if num == 0: return 0\n",
    "    count = 0\n",
    "    while(num>0):\n",
    "        count+=1\n",
    "        if num%2 == 0:\n",
    "            num//=2\n",
    "        else:\n",
    "            num-=1\n",
    "    return count\n",
    "\n",
    "num = 14\n",
    "print(numberOfSteps(num))"
   ]
  },
  {
   "cell_type": "code",
   "execution_count": 5,
   "id": "63b6e7a2",
   "metadata": {},
   "outputs": [
    {
     "name": "stdout",
     "output_type": "stream",
     "text": [
      "[0, 1, 1]\n"
     ]
    }
   ],
   "source": [
    "#Counting Bits\n",
    "\n",
    "def countBits(n):   \n",
    "    ans = [0]\n",
    "    for i in range(1,n+1):\n",
    "        ans.append(ans[i>>1] + i%2)\n",
    "    return ans\n",
    "\n",
    "n = 2\n",
    "print(countBits(n))"
   ]
  }
 ],
 "metadata": {
  "kernelspec": {
   "display_name": "Python 3 (ipykernel)",
   "language": "python",
   "name": "python3"
  },
  "language_info": {
   "codemirror_mode": {
    "name": "ipython",
    "version": 3
   },
   "file_extension": ".py",
   "mimetype": "text/x-python",
   "name": "python",
   "nbconvert_exporter": "python",
   "pygments_lexer": "ipython3",
   "version": "3.10.9"
  }
 },
 "nbformat": 4,
 "nbformat_minor": 5
}
